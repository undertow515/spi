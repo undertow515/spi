{
  "nbformat": 4,
  "nbformat_minor": 0,
  "metadata": {
    "colab": {
      "provenance": []
    },
    "kernelspec": {
      "name": "python3",
      "display_name": "Python 3"
    },
    "language_info": {
      "name": "python"
    }
  },
  "cells": [
    {
      "cell_type": "code",
      "execution_count": null,
      "metadata": {
        "id": "L_DanfCE67pr"
      },
      "outputs": [],
      "source": [
        "import numpy as np\n",
        "import scipy.stats as stats\n",
        "import matplotlib.pyplot as plt\n",
        "import pandas as pd\n",
        "\n",
        "# 데이터 불러오기\n",
        "data = pd.read_csv(r'sample_data/OBS_ASOS_MNH_20230517112705.csv',encoding = \"cp949\")\n",
        "# shp = \n",
        "#  경고 무시\n",
        "from warnings import filterwarnings\n",
        "filterwarnings('ignore')"
      ]
    },
    {
      "cell_type": "code",
      "source": [],
      "metadata": {
        "id": "S7t8LMH676KA"
      },
      "execution_count": null,
      "outputs": []
    },
    {
      "cell_type": "code",
      "source": [
        "!pip install standard-precip"
      ],
      "metadata": {
        "colab": {
          "base_uri": "https://localhost:8080/"
        },
        "id": "ye1LIkKF7J4K",
        "outputId": "6adfd983-9d41-42d4-92ed-a2860578dc12"
      },
      "execution_count": null,
      "outputs": [
        {
          "output_type": "stream",
          "name": "stdout",
          "text": [
            "Looking in indexes: https://pypi.org/simple, https://us-python.pkg.dev/colab-wheels/public/simple/\n",
            "Requirement already satisfied: standard-precip in /usr/local/lib/python3.10/dist-packages (1.0)\n",
            "Requirement already satisfied: numpy>=1.19.0 in /usr/local/lib/python3.10/dist-packages (from standard-precip) (1.22.4)\n",
            "Requirement already satisfied: matplotlib>=3.1.2 in /usr/local/lib/python3.10/dist-packages (from standard-precip) (3.7.1)\n",
            "Requirement already satisfied: scipy>=1.5.4 in /usr/local/lib/python3.10/dist-packages (from standard-precip) (1.10.1)\n",
            "Requirement already satisfied: pandas>=1.1.5 in /usr/local/lib/python3.10/dist-packages (from standard-precip) (1.5.3)\n",
            "Requirement already satisfied: contourpy>=1.0.1 in /usr/local/lib/python3.10/dist-packages (from matplotlib>=3.1.2->standard-precip) (1.0.7)\n",
            "Requirement already satisfied: cycler>=0.10 in /usr/local/lib/python3.10/dist-packages (from matplotlib>=3.1.2->standard-precip) (0.11.0)\n",
            "Requirement already satisfied: fonttools>=4.22.0 in /usr/local/lib/python3.10/dist-packages (from matplotlib>=3.1.2->standard-precip) (4.39.3)\n",
            "Requirement already satisfied: kiwisolver>=1.0.1 in /usr/local/lib/python3.10/dist-packages (from matplotlib>=3.1.2->standard-precip) (1.4.4)\n",
            "Requirement already satisfied: packaging>=20.0 in /usr/local/lib/python3.10/dist-packages (from matplotlib>=3.1.2->standard-precip) (23.1)\n",
            "Requirement already satisfied: pillow>=6.2.0 in /usr/local/lib/python3.10/dist-packages (from matplotlib>=3.1.2->standard-precip) (8.4.0)\n",
            "Requirement already satisfied: pyparsing>=2.3.1 in /usr/local/lib/python3.10/dist-packages (from matplotlib>=3.1.2->standard-precip) (3.0.9)\n",
            "Requirement already satisfied: python-dateutil>=2.7 in /usr/local/lib/python3.10/dist-packages (from matplotlib>=3.1.2->standard-precip) (2.8.2)\n",
            "Requirement already satisfied: pytz>=2020.1 in /usr/local/lib/python3.10/dist-packages (from pandas>=1.1.5->standard-precip) (2022.7.1)\n",
            "Requirement already satisfied: six>=1.5 in /usr/local/lib/python3.10/dist-packages (from python-dateutil>=2.7->matplotlib>=3.1.2->standard-precip) (1.16.0)\n"
          ]
        }
      ]
    },
    {
      "cell_type": "code",
      "source": [
        "# 조회지점별 관측소 코드\n",
        "서울경기 = {\"서울\" : 108, \"인천\" : 112, \"수원\" : 119, \"강화\" : 201, \"양평\" : 202, \"이천\" : 203}\n",
        "강원영동 = {\"속초\" : 90, \"강릉\" : 105, \"태백\" : 216}\n",
        "강원영서 = {\"철원\" : 95, \"대관령\" : 100, \"춘천\" : 101, \"원주\" : 114, \"인제\" : 211, \"홍천\" : 212}\n",
        "충북 = {\"충주\": 127, \"청주\" : 131 , \"추풍령\" : 135, \"제천\" : 221, \"보은\" : 226}\n",
        "충남 = {\"서산\": 129,\"대전\":133,\"천안\":232,\"보령\":235,\"부여\":236,\"금산\":238}\n",
        "\n",
        "경북 = {'울진':130, '안동':136, '포항':138, '대구':143, '봉화':217, '영주':272, '문경':273, '영덕':277, '의성':278, '구미':279, '영천':281}\n",
        "경남 = {'울산':152, '창원':155 ,'부산':159, '통영':162, '진주':192, '거창':284, '합천':285, '밀양':288, '산청':289, '거제':294, '남해':295}\n",
        "전북 = {'군산':140, '전주':146, '부안':243 ,'임실':244, '정읍':245 ,'남원':247, '장수':248}\n",
        "전남 = {'광주':156, '목포':165 ,'여수':168, '완도':170, '장흥':260, '해남':261, '고흥':262}\n",
        "\n",
        "제주 = {'제주':184,'고산':185,'성산':188,'서귀포':189}\n",
        "\n",
        "# 지역 데이터\n",
        "중부 = [서울경기,강원영동,강원영서,충북,충남]\n",
        "남부 = [경북,경남,전북,전남]\n",
        "제주도 = [제주]\n",
        "\n",
        "# 포인트만\n",
        "obs_list = [*서울경기.values(), *강원영동.values(), *강원영서.values(), *충북.values(), *충남.values(),\n",
        "            *경북.values(), *전남.values(), *경남.values(), *전북.values(), *제주.values()]\n",
        "middle_point_list = [*서울경기.values(), *강원영동.values(), *강원영서.values(), *충북.values(), *충남.values(),]\n",
        "south_point_list = [*경북.values(), *전남.values(), *경남.values(), *전북.values(),]\n",
        "jeju_point_list = [*제주.values()]\n",
        "\n",
        "# 지역이름만\n",
        "name_list = [*서울경기.keys(), *강원영동.keys(), *강원영서.keys(), *충북.keys(), *충남.keys(),\n",
        "            *경북.keys(), *전남.keys(), *경남.keys(), *전북.keys(), *제주.keys()]\n",
        "\n",
        "# n개월 리스트\n",
        "monthly_list = [3,4,5,6,9,12]\n",
        "\n",
        "# 범주화에 필요한 리스트 생성\n",
        "labels = [ \"Extremely wet\",\"Very wet\", \"Moderately wet\", \"Normal precipitation\", \"Moderately dry\", \"Very dry\", \"Extremely dry\"][::-1]\n",
        "bins = [-99,-2.,-1.5,-1,1,1.5,2,99]\n"
      ],
      "metadata": {
        "id": "KSqw5NK6p8wp"
      },
      "execution_count": null,
      "outputs": []
    },
    {
      "cell_type": "code",
      "source": [
        "# 데이터 전처리 (65개 관측소만 남긴다)\n",
        "criterion = data[\"지점\"].map(lambda x: x in obs_list)\n",
        "data = data[criterion]"
      ],
      "metadata": {
        "id": "amxI8shtNkHU"
      },
      "execution_count": null,
      "outputs": []
    },
    {
      "cell_type": "code",
      "source": [
        "# 데이터 전처리 2번째\n",
        "# time delta 가 1개월을 초과하는 시계열에 대해 전처리 진행\n",
        "def check_day(data, point):\n",
        "  from datetime import datetime\n",
        "  from datetime import timedelta\n",
        "  from dateutil.parser import parse\n",
        "  sample_data = data[data[\"지점\"] == point]\n",
        "  sample_data2 = sample_data[\"일시\"].to_numpy()\n",
        "  days = [datetime.strptime(i, '%Y-%m') for i in sample_data2]\n",
        "  while days[1] - days[0] > timedelta(days=32):\n",
        "    del days[0]\n",
        "  str_days = [i.strftime('%Y-%m') for i in days]\n",
        "  sample_data = sample_data[sample_data[\"일시\"].isin(str_days)]\n",
        "  sample_data.reset_index(drop=True, inplace=True)\n",
        "  sample_data.index = days\n",
        "  sample_data.index.name = 'date'\n",
        "  return sample_data\n",
        "\n",
        "# 월별 누가 강수량을 구한다.\n",
        "# 포인트에 따라 for문을 돌린다.\n",
        "\n",
        "\n",
        "check_day(data,108)\n"
      ],
      "metadata": {
        "id": "OX2jd0AFMoyE",
        "colab": {
          "base_uri": "https://localhost:8080/",
          "height": 455
        },
        "outputId": "a08ebb1c-46c8-45e9-aa66-796fa2af97dc"
      },
      "execution_count": null,
      "outputs": [
        {
          "output_type": "execute_result",
          "data": {
            "text/plain": [
              "             지점 지점명       일시  월합강수량(00~24h만)(mm)\n",
              "date                                            \n",
              "1961-01-01  108  서울  1961-01                18.0\n",
              "1961-02-01  108  서울  1961-02                 8.8\n",
              "1961-03-01  108  서울  1961-03                40.8\n",
              "1961-04-01  108  서울  1961-04               102.2\n",
              "1961-05-01  108  서울  1961-05               123.6\n",
              "...         ...  ..      ...                 ...\n",
              "2022-12-01  108  서울  2022-12                13.6\n",
              "2023-01-01  108  서울  2023-01                47.9\n",
              "2023-02-01  108  서울  2023-02                 1.0\n",
              "2023-03-01  108  서울  2023-03                10.5\n",
              "2023-04-01  108  서울  2023-04                96.9\n",
              "\n",
              "[748 rows x 4 columns]"
            ],
            "text/html": [
              "\n",
              "  <div id=\"df-35d4534c-5222-4837-8dd6-c615b2bbb902\">\n",
              "    <div class=\"colab-df-container\">\n",
              "      <div>\n",
              "<style scoped>\n",
              "    .dataframe tbody tr th:only-of-type {\n",
              "        vertical-align: middle;\n",
              "    }\n",
              "\n",
              "    .dataframe tbody tr th {\n",
              "        vertical-align: top;\n",
              "    }\n",
              "\n",
              "    .dataframe thead th {\n",
              "        text-align: right;\n",
              "    }\n",
              "</style>\n",
              "<table border=\"1\" class=\"dataframe\">\n",
              "  <thead>\n",
              "    <tr style=\"text-align: right;\">\n",
              "      <th></th>\n",
              "      <th>지점</th>\n",
              "      <th>지점명</th>\n",
              "      <th>일시</th>\n",
              "      <th>월합강수량(00~24h만)(mm)</th>\n",
              "    </tr>\n",
              "    <tr>\n",
              "      <th>date</th>\n",
              "      <th></th>\n",
              "      <th></th>\n",
              "      <th></th>\n",
              "      <th></th>\n",
              "    </tr>\n",
              "  </thead>\n",
              "  <tbody>\n",
              "    <tr>\n",
              "      <th>1961-01-01</th>\n",
              "      <td>108</td>\n",
              "      <td>서울</td>\n",
              "      <td>1961-01</td>\n",
              "      <td>18.0</td>\n",
              "    </tr>\n",
              "    <tr>\n",
              "      <th>1961-02-01</th>\n",
              "      <td>108</td>\n",
              "      <td>서울</td>\n",
              "      <td>1961-02</td>\n",
              "      <td>8.8</td>\n",
              "    </tr>\n",
              "    <tr>\n",
              "      <th>1961-03-01</th>\n",
              "      <td>108</td>\n",
              "      <td>서울</td>\n",
              "      <td>1961-03</td>\n",
              "      <td>40.8</td>\n",
              "    </tr>\n",
              "    <tr>\n",
              "      <th>1961-04-01</th>\n",
              "      <td>108</td>\n",
              "      <td>서울</td>\n",
              "      <td>1961-04</td>\n",
              "      <td>102.2</td>\n",
              "    </tr>\n",
              "    <tr>\n",
              "      <th>1961-05-01</th>\n",
              "      <td>108</td>\n",
              "      <td>서울</td>\n",
              "      <td>1961-05</td>\n",
              "      <td>123.6</td>\n",
              "    </tr>\n",
              "    <tr>\n",
              "      <th>...</th>\n",
              "      <td>...</td>\n",
              "      <td>...</td>\n",
              "      <td>...</td>\n",
              "      <td>...</td>\n",
              "    </tr>\n",
              "    <tr>\n",
              "      <th>2022-12-01</th>\n",
              "      <td>108</td>\n",
              "      <td>서울</td>\n",
              "      <td>2022-12</td>\n",
              "      <td>13.6</td>\n",
              "    </tr>\n",
              "    <tr>\n",
              "      <th>2023-01-01</th>\n",
              "      <td>108</td>\n",
              "      <td>서울</td>\n",
              "      <td>2023-01</td>\n",
              "      <td>47.9</td>\n",
              "    </tr>\n",
              "    <tr>\n",
              "      <th>2023-02-01</th>\n",
              "      <td>108</td>\n",
              "      <td>서울</td>\n",
              "      <td>2023-02</td>\n",
              "      <td>1.0</td>\n",
              "    </tr>\n",
              "    <tr>\n",
              "      <th>2023-03-01</th>\n",
              "      <td>108</td>\n",
              "      <td>서울</td>\n",
              "      <td>2023-03</td>\n",
              "      <td>10.5</td>\n",
              "    </tr>\n",
              "    <tr>\n",
              "      <th>2023-04-01</th>\n",
              "      <td>108</td>\n",
              "      <td>서울</td>\n",
              "      <td>2023-04</td>\n",
              "      <td>96.9</td>\n",
              "    </tr>\n",
              "  </tbody>\n",
              "</table>\n",
              "<p>748 rows × 4 columns</p>\n",
              "</div>\n",
              "      <button class=\"colab-df-convert\" onclick=\"convertToInteractive('df-35d4534c-5222-4837-8dd6-c615b2bbb902')\"\n",
              "              title=\"Convert this dataframe to an interactive table.\"\n",
              "              style=\"display:none;\">\n",
              "        \n",
              "  <svg xmlns=\"http://www.w3.org/2000/svg\" height=\"24px\"viewBox=\"0 0 24 24\"\n",
              "       width=\"24px\">\n",
              "    <path d=\"M0 0h24v24H0V0z\" fill=\"none\"/>\n",
              "    <path d=\"M18.56 5.44l.94 2.06.94-2.06 2.06-.94-2.06-.94-.94-2.06-.94 2.06-2.06.94zm-11 1L8.5 8.5l.94-2.06 2.06-.94-2.06-.94L8.5 2.5l-.94 2.06-2.06.94zm10 10l.94 2.06.94-2.06 2.06-.94-2.06-.94-.94-2.06-.94 2.06-2.06.94z\"/><path d=\"M17.41 7.96l-1.37-1.37c-.4-.4-.92-.59-1.43-.59-.52 0-1.04.2-1.43.59L10.3 9.45l-7.72 7.72c-.78.78-.78 2.05 0 2.83L4 21.41c.39.39.9.59 1.41.59.51 0 1.02-.2 1.41-.59l7.78-7.78 2.81-2.81c.8-.78.8-2.07 0-2.86zM5.41 20L4 18.59l7.72-7.72 1.47 1.35L5.41 20z\"/>\n",
              "  </svg>\n",
              "      </button>\n",
              "      \n",
              "  <style>\n",
              "    .colab-df-container {\n",
              "      display:flex;\n",
              "      flex-wrap:wrap;\n",
              "      gap: 12px;\n",
              "    }\n",
              "\n",
              "    .colab-df-convert {\n",
              "      background-color: #E8F0FE;\n",
              "      border: none;\n",
              "      border-radius: 50%;\n",
              "      cursor: pointer;\n",
              "      display: none;\n",
              "      fill: #1967D2;\n",
              "      height: 32px;\n",
              "      padding: 0 0 0 0;\n",
              "      width: 32px;\n",
              "    }\n",
              "\n",
              "    .colab-df-convert:hover {\n",
              "      background-color: #E2EBFA;\n",
              "      box-shadow: 0px 1px 2px rgba(60, 64, 67, 0.3), 0px 1px 3px 1px rgba(60, 64, 67, 0.15);\n",
              "      fill: #174EA6;\n",
              "    }\n",
              "\n",
              "    [theme=dark] .colab-df-convert {\n",
              "      background-color: #3B4455;\n",
              "      fill: #D2E3FC;\n",
              "    }\n",
              "\n",
              "    [theme=dark] .colab-df-convert:hover {\n",
              "      background-color: #434B5C;\n",
              "      box-shadow: 0px 1px 3px 1px rgba(0, 0, 0, 0.15);\n",
              "      filter: drop-shadow(0px 1px 2px rgba(0, 0, 0, 0.3));\n",
              "      fill: #FFFFFF;\n",
              "    }\n",
              "  </style>\n",
              "\n",
              "      <script>\n",
              "        const buttonEl =\n",
              "          document.querySelector('#df-35d4534c-5222-4837-8dd6-c615b2bbb902 button.colab-df-convert');\n",
              "        buttonEl.style.display =\n",
              "          google.colab.kernel.accessAllowed ? 'block' : 'none';\n",
              "\n",
              "        async function convertToInteractive(key) {\n",
              "          const element = document.querySelector('#df-35d4534c-5222-4837-8dd6-c615b2bbb902');\n",
              "          const dataTable =\n",
              "            await google.colab.kernel.invokeFunction('convertToInteractive',\n",
              "                                                     [key], {});\n",
              "          if (!dataTable) return;\n",
              "\n",
              "          const docLinkHtml = 'Like what you see? Visit the ' +\n",
              "            '<a target=\"_blank\" href=https://colab.research.google.com/notebooks/data_table.ipynb>data table notebook</a>'\n",
              "            + ' to learn more about interactive tables.';\n",
              "          element.innerHTML = '';\n",
              "          dataTable['output_type'] = 'display_data';\n",
              "          await google.colab.output.renderOutput(dataTable, element);\n",
              "          const docLink = document.createElement('div');\n",
              "          docLink.innerHTML = docLinkHtml;\n",
              "          element.appendChild(docLink);\n",
              "        }\n",
              "      </script>\n",
              "    </div>\n",
              "  </div>\n",
              "  "
            ]
          },
          "metadata": {},
          "execution_count": 101
        }
      ]
    },
    {
      "cell_type": "code",
      "source": [
        "def SPI_calc(data, point,monthly_list):\n",
        "  # 계산\n",
        "  from standard_precip.spi import SPI\n",
        "  from standard_precip.utils import plot_index\n",
        "  labels = [ \"Extremely wet\",\"Very wet\", \"Moderately wet\", \"Normal precipitation\", \"Moderately dry\", \"Very dry\", \"Extremely dry\"][::-1]\n",
        "  bins = [-99,-2.,-1.5,-1,1,1.5,2,99]\n",
        "  df = check_day(data,point)\n",
        "  spi = SPI()\n",
        "\n",
        "  for i in monthly_list:\n",
        "    #\n",
        "    df_spi_i = spi.calculate(\n",
        "        df, \n",
        "        '일시', \n",
        "        \"월합강수량(00~24h만)(mm)\", \n",
        "        freq=\"M\", \n",
        "        scale=i, \n",
        "        fit_type=\"lmom\", \n",
        "        dist_type=\"gam\"\n",
        "    )\n",
        "    df_spi_i.index = df.index\n",
        "    df[\"월합강수량(00~24h만)(mm)_scale_{}_calculated_index\".format(i)] = df_spi_i[\"월합강수량(00~24h만)(mm)_scale_{}_calculated_index\".format(i)]\n",
        "    df[\"월합강수량(00~24h만)(mm)_scale_{}_calculated_index_classification\".format(i)] = pd.cut(df[\"월합강수량(00~24h만)(mm)_scale_{}_calculated_index\".format(i)],labels=labels, bins = bins, right = True)\n",
        "\n",
        "  return df\n"
      ],
      "metadata": {
        "id": "rvQF4KAQ7LnO"
      },
      "execution_count": null,
      "outputs": []
    },
    {
      "cell_type": "code",
      "source": [
        "# 관측하고자 하는 데이터생성 \n",
        "L = {}\n",
        "for i, j in zip([*서울경기.values(), *강원영동.values(), *강원영서.values(), *충북.values(), *충남.values(),\n",
        "            *경북.values(), *전남.values(), *경남.values(), *전북.values(), *제주.values()], [*서울경기.keys(), *강원영동.keys(), *강원영서.keys(), *충북.keys(), *충남.keys(),\n",
        "            *경북.keys(), *전남.keys(), *경남.keys(), *전북.keys(), *제주.keys()]):\n",
        "# for i, j in zip([*서울경기.values(), *강원영동.values()], [*서울경기.keys(), *강원영동.keys()]):\n",
        "       L[j] = SPI_calc(data, i, monthly_list)\n",
        "# 후에 data : dict 인자는 모두 여기서 생성한 데이터로 분석 실시"
      ],
      "metadata": {
        "id": "nV6mrHdaBeri"
      },
      "execution_count": null,
      "outputs": []
    },
    {
      "cell_type": "code",
      "source": [
        "# se = data[\"월합강수량(00~24h만)(mm)\"]\n",
        "# a  = se.to_numpy()\n",
        "# for i in range(len(a)):\n",
        "#   if i < len(a) - 3:\n",
        "#     if np.sum(a[i:i+3]) == 0:\n",
        "#         print(a[i:i+3])\n",
        "L[\"수원\"].isna().sum()"
      ],
      "metadata": {
        "id": "xdsGi0zS_arv",
        "colab": {
          "base_uri": "https://localhost:8080/"
        },
        "outputId": "571ce872-80f5-4d05-e5d1-447f0271ad03"
      },
      "execution_count": null,
      "outputs": [
        {
          "output_type": "execute_result",
          "data": {
            "text/plain": [
              "지점                                                              0\n",
              "지점명                                                             0\n",
              "일시                                                              0\n",
              "월합강수량(00~24h만)(mm)                                              0\n",
              "월합강수량(00~24h만)(mm)_scale_3                                      2\n",
              "월합강수량(00~24h만)(mm)_scale_3_calculated_index                     9\n",
              "월합강수량(00~24h만)(mm)_scale_3_calculated_index_classification      9\n",
              "월합강수량(00~24h만)(mm)_scale_4                                      3\n",
              "월합강수량(00~24h만)(mm)_scale_4_calculated_index                    24\n",
              "월합강수량(00~24h만)(mm)_scale_4_calculated_index_classification     24\n",
              "월합강수량(00~24h만)(mm)_scale_5                                      4\n",
              "월합강수량(00~24h만)(mm)_scale_5_calculated_index                     4\n",
              "월합강수량(00~24h만)(mm)_scale_5_calculated_index_classification      4\n",
              "월합강수량(00~24h만)(mm)_scale_6                                      5\n",
              "월합강수량(00~24h만)(mm)_scale_6_calculated_index                     5\n",
              "월합강수량(00~24h만)(mm)_scale_6_calculated_index_classification      5\n",
              "월합강수량(00~24h만)(mm)_scale_9                                      8\n",
              "월합강수량(00~24h만)(mm)_scale_9_calculated_index                     8\n",
              "월합강수량(00~24h만)(mm)_scale_9_calculated_index_classification      8\n",
              "월합강수량(00~24h만)(mm)_scale_12                                    11\n",
              "월합강수량(00~24h만)(mm)_scale_12_calculated_index                   11\n",
              "월합강수량(00~24h만)(mm)_scale_12_calculated_index_classification    11\n",
              "dtype: int64"
            ]
          },
          "metadata": {},
          "execution_count": 98
        }
      ]
    },
    {
      "cell_type": "code",
      "source": [
        "def fr(a):\n",
        "  b = np.roll(a,1)\n",
        "  b = np.delete(b,0)\n",
        "  a = np.delete(a,0)\n",
        "  return a - b\n",
        "\n",
        "def freq_analysis(data : dict, point_name: str, month = 3): \n",
        "  df = data[point_name]\n",
        "  cols = df.columns\n",
        "  df2 = df[\"월합강수량(00~24h만)(mm)_scale_{}_calculated_index\".format(month)]\n",
        "  df2.dropna(inplace=True)\n",
        "  df3 = (df2 < -1)\n",
        "  arr = np.zeros_like(df2, dtype = object)\n",
        "\n",
        "  for i in range(len(df3)):\n",
        "    \n",
        "    if (df3.iloc[i] == True) and (df3.iloc[i-1] == False):\n",
        "      if i == 0:\n",
        "        pass\n",
        "      else:\n",
        "        arr[i] = \"start\"\n",
        "    elif (df3.iloc[i] == False) and (df3.iloc[i-1] == True):\n",
        "      if np.count_nonzero(arr[:i]) != 0:\n",
        "        arr[i] = \"end\"\n",
        "\n",
        "  if np.array(*np.where(arr == \"start\"))[-1] > np.array(*np.where(arr == \"end\"))[-1]:\n",
        "      if arr[-1] == 0:\n",
        "          arr[-1] = \"end\"\n",
        "      else:\n",
        "          arr[-1] = 0 \n",
        "\n",
        "  duration = np.array(*np.where(arr == \"end\")) - np.array(*np.where(arr == \"start\"))\n",
        "  return arr , duration, np.array(*np.where(arr == \"start\")) , np.array(*np.where(arr == \"end\")) , fr(np.array(*np.where(arr == \"start\")))\n"
      ],
      "metadata": {
        "id": "U5Gm1b7UL8cr"
      },
      "execution_count": null,
      "outputs": []
    },
    {
      "cell_type": "code",
      "source": [
        "D = {}\n",
        "for i in L.keys():\n",
        "  for month in monthly_list:\n",
        "    D[\"{}{}month\".format(i, month)] = freq_analysis(L, i, month)\n"
      ],
      "metadata": {
        "id": "ZSuqe-GgzjfQ"
      },
      "execution_count": null,
      "outputs": []
    },
    {
      "cell_type": "code",
      "source": [
        "df = L.values()\n",
        "df2 = pd.concat(df,axis = 0, join = 'inner')\n",
        "\n",
        "\n",
        "df2.to_csv(\"test_data.csv\")\n"
      ],
      "metadata": {
        "id": "VZ-cHrIu7exA"
      },
      "execution_count": null,
      "outputs": []
    },
    {
      "cell_type": "code",
      "source": [
        "def easy_analysis(data : dict, point_name: str, month = 3 , show = False):\n",
        "    labels = [ \"Extremely wet\",\"Very wet\", \"Moderately wet\", \"Normal precipitation\", \"Moderately dry\", \"Very dry\", \"Extremely dry\"][::-1]\n",
        "    df = data[point_name][\"월합강수량(00~24h만)(mm)_scale_{}_calculated_index_classification\".format(month)]\n",
        "    results = []\n",
        "    df.dropna(inplace=True)\n",
        "    \n",
        "    for i in labels:\n",
        "      results.append(np.sum(df == i) / len(df == i)*100)\n",
        "      if show == True:\n",
        "        print(i ,\":\", np.sum(df == i) / len(df == i)*100)\n",
        "    if show == True:\n",
        "      print(\"\\n\")\n",
        "\n",
        "    return results\n"
      ],
      "metadata": {
        "id": "no3bbydlWz3s"
      },
      "execution_count": null,
      "outputs": []
    },
    {
      "cell_type": "code",
      "source": [
        "def dm(data: dict, point_name: str, month = 3 , show = False):\n",
        "  df = data[point_name][\"월합강수량(00~24h만)(mm)_scale_{}_calculated_index\".format(month)]\n",
        "  df.dropna(inplace=True)\n",
        "  boo = df < 0\n",
        "  return -1*np.sum(df * boo) , -1*np.sum(df * boo) / np.sum(boo)\n",
        "\n",
        "\n",
        "L2 = {}\n",
        "for i, j in zip([*강원영동.values(), *전북.values()], [*강원영동.keys(), *전북.keys()]):\n",
        "  L2[j] = SPI_calc(data, i, monthly_list)\n",
        "dm(L2, \"정읍\") , dm(L2, \"속초\") ,dm(L, \"광주\") , dm(L, \"서울\") ,dm(L, \"여수\")"
      ],
      "metadata": {
        "colab": {
          "base_uri": "https://localhost:8080/"
        },
        "id": "kKHHUgB79C7C",
        "outputId": "5015ab1e-38c4-447c-f647-472499ba41b5"
      },
      "execution_count": null,
      "outputs": [
        {
          "output_type": "execute_result",
          "data": {
            "text/plain": [
              "((241.09052576766805, 0.8228345589340207),\n",
              " (266.29392902350867, 0.7878518610162978),\n",
              " (297.93147236420623, 0.7799253203251472),\n",
              " (272.2502150068839, 0.8250006515360118),\n",
              " (275.79327725787107, 0.8111566978172678))"
            ]
          },
          "metadata": {},
          "execution_count": 76
        }
      ]
    },
    {
      "cell_type": "code",
      "source": [
        "L[\"광주\"].to_csv(\"광주SPI.csv\")"
      ],
      "metadata": {
        "id": "26VjR7e8gowN"
      },
      "execution_count": null,
      "outputs": []
    },
    {
      "cell_type": "code",
      "source": [
        "# def convolve_and_roll(sample_data, point ,monthly_list = [3,4,5,6,9,12]):\n",
        "#   df = check_day(sample_data, point)\n",
        "#   for month in monthly_list:\n",
        "#         pp = np.convolve(df[\"월합강수량(00~24h만)(mm)\"], np.ones(month), mode='full')/month\n",
        "#         pp[:month-1] = 0\n",
        "#         pp = pp[:len(pp) - month + 1]\n",
        "#         df[\"{}개월누가평균강수량\".format(month)] = pp\n",
        "#   return df     "
      ],
      "metadata": {
        "id": "0rhSZv7r6zSK"
      },
      "execution_count": null,
      "outputs": []
    },
    {
      "cell_type": "code",
      "source": [
        "# def spi(data,point,monthly_list = [3,4,5,6,9,12],name = \"\", csv = False):\n",
        "#   a = convolve_and_roll(data, point, monthly_list)\n",
        "#   for month in monthly_list:\n",
        "#     params = stats.gamma.fit(a[\"{}개월누가평균강수량\".format(month)])\n",
        "#     xx = np.linspace(0, np.max(a[\"{}개월누가평균강수량\".format(month)]), 1000)\n",
        "#     dist = stats.gamma(*params)\n",
        "#     dist2 = stats.norm(loc=0,scale=1)\n",
        "#     a[\"SPI_{}\".format(month)] = dist2.ppf(dist.cdf(a[\"{}개월누가평균강수량\".format(month)]))\n",
        "#     a[\"SPI_{}\".format(month)][:month-1] = 0\n",
        "\n",
        "#   if csv == True:\n",
        "#     a.to_csv(r\"sample_data/중부/SPI_{}.csv\".format(name), index=True)\n",
        "\n",
        "#   return a\n",
        "\n",
        "# def run():\n",
        "#   for i,j in zip(obs_list, name_list):\n",
        "#     spi(data,point = i, name = j)\n",
        "\n",
        "# def run2(df):\n",
        "#   df2 = df.tail(120)\n",
        "#   print(np.sum(df2[\"SPI_12\"] < -1.5))\n",
        "#   return np.sum(df2[\"SPI_12\"] < -1.5)\n",
        "\n"
      ],
      "metadata": {
        "id": "Jk16WeJrLvvt"
      },
      "execution_count": null,
      "outputs": []
    },
    {
      "cell_type": "code",
      "source": [
        "\n"
      ],
      "metadata": {
        "id": "F8kfUKPwDOw6"
      },
      "execution_count": null,
      "outputs": []
    },
    {
      "cell_type": "code",
      "source": [
        "import warnings\n",
        "warnings.filterwarnings('ignore')"
      ],
      "metadata": {
        "id": "ANwobvsP1Afu"
      },
      "execution_count": null,
      "outputs": []
    },
    {
      "cell_type": "code",
      "source": [
        "\n"
      ],
      "metadata": {
        "id": "9p1MKZbj21_e"
      },
      "execution_count": null,
      "outputs": []
    },
    {
      "cell_type": "code",
      "source": [],
      "metadata": {
        "id": "f7geJmNt68D1"
      },
      "execution_count": null,
      "outputs": []
    }
  ]
}